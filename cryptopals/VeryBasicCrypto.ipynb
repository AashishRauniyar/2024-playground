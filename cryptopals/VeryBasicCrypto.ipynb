{
 "cells": [
  {
   "cell_type": "markdown",
   "id": "d006b47e",
   "metadata": {},
   "source": [
    "# Very Basic Cryptography"
   ]
  },
  {
   "cell_type": "markdown",
   "id": "7f17f5f3",
   "metadata": {},
   "source": [
    "## Encoding: Base 64"
   ]
  },
  {
   "cell_type": "markdown",
   "id": "4a2b95cb",
   "metadata": {},
   "source": [
    "<table style='border-style: solid;'>\n",
    "    <tr>\n",
    "        <td colspan=\"8\" style=\"text-align:center; border-style: solid;\">A</td>\n",
    "        <td colspan=\"8\" style=\"text-align:center; border-style: solid;\">B</td>\n",
    "        <td colspan=\"8\" style=\"text-align:center; border-style: solid;\">C</td>\n",
    "        <td colspan=\"8\" style=\"text-align:center; border-style: solid;\">D</td>  \n",
    "        <td colspan=\"8\" style=\"text-align:center; border-style: solid;\">-</td>        \n",
    "        <td colspan=\"8\" style=\"text-align:center; border-style: solid;\">-</td> \n",
    "    </tr>\n",
    "    <tr>\n",
    "        <td colspan=\"8\" style=\"text-align:center; border-style: solid;\">65 / 0x41</td>\n",
    "        <td colspan=\"8\" style=\"text-align:center; border-style: solid;\">66 / 0x42</td>\n",
    "        <td colspan=\"8\" style=\"text-align:center; border-style: solid;\">67 / 0x43</td>\n",
    "        <td colspan=\"8\" style=\"text-align:center; border-style: solid;\">68 / 0x44</td>        \n",
    "        <td colspan=\"8\" style=\"text-align:center; border-style: solid;\">-</td>        \n",
    "        <td colspan=\"8\" style=\"text-align:center; border-style: solid;\">-</td>        \n",
    "    </tr>\n",
    "    <tr>\n",
    "        <td style=\"text-align:center; border-style: solid;\">0</td>\n",
    "        <td style=\"text-align:center; border-style: solid;\">1</td>\n",
    "        <td style=\"text-align:center; border-style: solid;\">0</td>\n",
    "        <td style=\"text-align:center; border-style: solid;\">0</td>\n",
    "        <td style=\"text-align:center; border-style: solid;\">0</td>\n",
    "        <td style=\"text-align:center; border-style: solid;\">0</td>\n",
    "        <td style=\"text-align:center; border-style: solid;\">0</td>\n",
    "        <td style=\"text-align:center; border-style: solid;\">1</td>\n",
    "        <td style=\"text-align:center; border-style: solid;\">0</td>\n",
    "        <td style=\"text-align:center; border-style: solid;\">1</td>\n",
    "        <td style=\"text-align:center; border-style: solid;\">0</td>\n",
    "        <td style=\"text-align:center; border-style: solid;\">0</td>\n",
    "        <td style=\"text-align:center; border-style: solid;\">0</td>\n",
    "        <td style=\"text-align:center; border-style: solid;\">0</td>\n",
    "        <td style=\"text-align:center; border-style: solid;\">1</td>\n",
    "        <td style=\"text-align:center; border-style: solid;\">0</td>\n",
    "        <td style=\"text-align:center; border-style: solid;\">0</td>\n",
    "        <td style=\"text-align:center; border-style: solid;\">1</td>\n",
    "        <td style=\"text-align:center; border-style: solid;\">0</td>\n",
    "        <td style=\"text-align:center; border-style: solid;\">0</td>\n",
    "        <td style=\"text-align:center; border-style: solid;\">0</td>\n",
    "        <td style=\"text-align:center; border-style: solid;\">0</td>\n",
    "        <td style=\"text-align:center; border-style: solid;\">1</td>\n",
    "        <td style=\"text-align:center; border-style: solid;\">1</td>\n",
    "        <td style=\"text-align:center; border-style: solid;\">0</td>\n",
    "        <td style=\"text-align:center; border-style: solid;\">1</td>\n",
    "        <td style=\"text-align:center; border-style: solid;\">0</td>\n",
    "        <td style=\"text-align:center; border-style: solid;\">0</td>\n",
    "        <td style=\"text-align:center; border-style: solid;\">0</td>\n",
    "        <td style=\"text-align:center; border-style: solid;\">1</td>\n",
    "        <td style=\"text-align:center; border-style: solid;\">0</td>\n",
    "        <td style=\"text-align:center; border-style: solid;\">0</td>\n",
    "        <td style=\"text-align:center; border-style: solid;\">-</td>\n",
    "        <td style=\"text-align:center; border-style: solid;\">-</td>\n",
    "        <td style=\"text-align:center; border-style: solid;\">-</td>\n",
    "        <td style=\"text-align:center; border-style: solid;\">-</td>\n",
    "        <td style=\"text-align:center; border-style: solid;\">-</td>\n",
    "        <td style=\"text-align:center; border-style: solid;\">-</td>\n",
    "        <td style=\"text-align:center; border-style: solid;\">-</td>\n",
    "        <td style=\"text-align:center; border-style: solid;\">-</td>\n",
    "        <td style=\"text-align:center; border-style: solid;\">-</td>\n",
    "        <td style=\"text-align:center; border-style: solid;\">-</td>\n",
    "        <td style=\"text-align:center; border-style: solid;\">-</td>\n",
    "        <td style=\"text-align:center; border-style: solid;\">-</td>\n",
    "        <td style=\"text-align:center; border-style: solid;\">-</td>\n",
    "        <td style=\"text-align:center; border-style: solid;\">-</td>\n",
    "        <td style=\"text-align:center; border-style: solid;\">-</td>\n",
    "        <td style=\"text-align:center; border-style: solid;\">-</td>\n",
    "    </tr>\n",
    "    <tr>\n",
    "        <td style=\"text-align:center; border-style: solid;\" colspan=\"6\">010000</td>\n",
    "        <td style=\"text-align:center; border-style: solid;\" colspan=\"6\">010100</td>\n",
    "        <td style=\"text-align:center; border-style: solid;\" colspan=\"6\">001001</td>\n",
    "        <td style=\"text-align:center; border-style: solid;\" colspan=\"6\">000011</td>\n",
    "        <td style=\"text-align:center; border-style: solid;\" colspan=\"6\">010001</td>\n",
    "        <td style=\"text-align:center; border-style: solid;\" colspan=\"6\">00----</td>\n",
    "        <td style=\"text-align:center; border-style: solid;\" colspan=\"6\">------</td>\n",
    "        <td style=\"text-align:center; border-style: solid;\" colspan=\"6\">------</td>\n",
    "    </tr>\n",
    "    <tr>\n",
    "        <td style=\"text-align:center; border-style: solid;\" colspan=\"6\">Q</td>\n",
    "        <td style=\"text-align:center; border-style: solid;\" colspan=\"6\">U</td>\n",
    "        <td style=\"text-align:center; border-style: solid;\" colspan=\"6\">J</td>\n",
    "        <td style=\"text-align:center; border-style: solid;\" colspan=\"6\">D</td>\n",
    "        <td style=\"text-align:center; border-style: solid;\" colspan=\"6\">R</td>\n",
    "        <td style=\"text-align:center; border-style: solid;\" colspan=\"6\">A</td>\n",
    "        <td style=\"text-align:center; border-style: solid;\" colspan=\"6\">=</td>\n",
    "        <td style=\"text-align:center; border-style: solid;\" colspan=\"6\">=</td>\n",
    "    </tr>\n",
    "\n",
    "</table>"
   ]
  },
  {
   "cell_type": "markdown",
   "id": "1081c20d",
   "metadata": {},
   "source": [
    "## Encryption: XOR\n",
    "0 ^ 0 = 0 <br/>\n",
    "0 ^ 1 = 1 <br/>\n",
    "1 ^ 0 = 1 <br/>\n",
    "1 ^ 1 = 0 <br/>\n",
    "x ^ 0 = x <br/>\n",
    "x ^ x = 0 <br/>\n",
    "x ^ k ^ k => x ^ (k ^ k) => x ^ 0 => x"
   ]
  },
  {
   "cell_type": "markdown",
   "id": "aff9a7a0",
   "metadata": {},
   "source": [
    "## Working with bytes in Python"
   ]
  },
  {
   "cell_type": "code",
   "execution_count": 1,
   "id": "550db3ef",
   "metadata": {},
   "outputs": [
    {
     "data": {
      "text/plain": [
       "'41424344'"
      ]
     },
     "execution_count": 1,
     "metadata": {},
     "output_type": "execute_result"
    }
   ],
   "source": [
    "# from regular string to hex encoded string\n",
    "hexstr = \"ABCD\".encode(\"utf-8\").hex()\n",
    "hexstr"
   ]
  },
  {
   "cell_type": "code",
   "execution_count": 2,
   "id": "403c6023",
   "metadata": {},
   "outputs": [
    {
     "data": {
      "text/plain": [
       "b'ABCD'"
      ]
     },
     "execution_count": 2,
     "metadata": {},
     "output_type": "execute_result"
    }
   ],
   "source": [
    "# from hex encoded string to bytes\n",
    "original = bytes.fromhex(hexstr)\n",
    "original"
   ]
  },
  {
   "cell_type": "code",
   "execution_count": 3,
   "id": "c31b06fd",
   "metadata": {},
   "outputs": [
    {
     "data": {
      "text/plain": [
       "'ABCD'"
      ]
     },
     "execution_count": 3,
     "metadata": {},
     "output_type": "execute_result"
    }
   ],
   "source": [
    "# from bytes to a regular string\n",
    "original.decode()"
   ]
  },
  {
   "cell_type": "code",
   "execution_count": 4,
   "id": "e9a59cb9",
   "metadata": {},
   "outputs": [],
   "source": [
    "# the more generic way is to use the codes library\n",
    "from codecs import encode, decode"
   ]
  },
  {
   "cell_type": "code",
   "execution_count": 5,
   "id": "73fbd424",
   "metadata": {},
   "outputs": [
    {
     "data": {
      "text/plain": [
       "b'QUJDRA==\\n'"
      ]
     },
     "execution_count": 5,
     "metadata": {},
     "output_type": "execute_result"
    }
   ],
   "source": [
    "# encode(\"ABCD\", \"base64\") # this is an error, because base64 is used on bytes not characters\n",
    "ciphertext = encode(\"ABCD\".encode(), \"base64\")\n",
    "# notice that this returns a bytearray\n",
    "ciphertext"
   ]
  },
  {
   "cell_type": "code",
   "execution_count": 6,
   "id": "0ec7bdfa",
   "metadata": {},
   "outputs": [
    {
     "data": {
      "text/plain": [
       "'QUJDRA==\\n'"
      ]
     },
     "execution_count": 6,
     "metadata": {},
     "output_type": "execute_result"
    }
   ],
   "source": [
    "# if we want a regular string, we can decode it\n",
    "ciphertext.decode()"
   ]
  },
  {
   "cell_type": "code",
   "execution_count": 7,
   "id": "66048433",
   "metadata": {},
   "outputs": [
    {
     "data": {
      "text/plain": [
       "b'ABCD'"
      ]
     },
     "execution_count": 7,
     "metadata": {},
     "output_type": "execute_result"
    }
   ],
   "source": [
    "# if we want the original plaintext, we can decode it\n",
    "# with the codecs library\n",
    "decode(ciphertext, \"base64\")\n",
    "# notice that this too returns a bytes array.\n",
    "# we are just dealing with bytes array through and through"
   ]
  },
  {
   "cell_type": "code",
   "execution_count": 8,
   "id": "7270170b",
   "metadata": {},
   "outputs": [
    {
     "data": {
      "text/plain": [
       "b'ABCD'"
      ]
     },
     "execution_count": 8,
     "metadata": {},
     "output_type": "execute_result"
    }
   ],
   "source": [
    "# we also have the option of using different syntax for bytes array\n",
    "b'\\x41\\x42\\x43\\x44'"
   ]
  },
  {
   "cell_type": "code",
   "execution_count": 9,
   "id": "6daccbf8",
   "metadata": {},
   "outputs": [
    {
     "data": {
      "text/plain": [
       "b'\\x1b\\x18\\x19\\x1e\\x1f\\x1c'"
      ]
     },
     "execution_count": 9,
     "metadata": {},
     "output_type": "execute_result"
    }
   ],
   "source": [
    "# We can iterate over a bytesarray to encrypt with xor\n",
    "plaintext = b\"abcdef\"\n",
    "key = b\"z\"\n",
    "ciphertext = b\"\"\n",
    "for (i, v) in enumerate(plaintext):\n",
    "    ciphertext += bytes([plaintext[i] ^ key[0]])\n",
    "ciphertext"
   ]
  },
  {
   "cell_type": "code",
   "execution_count": 10,
   "id": "f0d13f9a",
   "metadata": {},
   "outputs": [
    {
     "data": {
      "text/plain": [
       "b'abcdef'"
      ]
     },
     "execution_count": 10,
     "metadata": {},
     "output_type": "execute_result"
    }
   ],
   "source": [
    "# to decrypt with xor we use the same algorithm\n",
    "plaintext = b''\n",
    "for (i, v) in enumerate(ciphertext):\n",
    "    plaintext += bytes([ciphertext[i] ^ key[0]])\n",
    "plaintext"
   ]
  },
  {
   "cell_type": "code",
   "execution_count": null,
   "id": "4abda39b",
   "metadata": {},
   "outputs": [],
   "source": [
    "\"49276d206b696c6c696e6720796f757220627261696e206c696b65206120706f69736f6e6f7573206d757368726f6f6d\"\n",
    "hexadecimal base: 16\n",
    "4 bit can represent 16 values: 0-15\n",
    "0 1 2 3 4 5 6 7 8 9 10 11 12 13 14 15\n",
    "\n",
    "0     1     2    3    4    5   6     7    8    9   a     b    c   d     e    f \n",
    "0000 0001 0010 0011 0100 0101 0110 0111 1000 1001 1010 1011 1100 1101 1110 1111 \n",
    "\n",
    "0100100100100111...\n",
    "\n",
    "010010 010010 0111\n",
    "S       S"
   ]
  },
  {
   "cell_type": "code",
   "execution_count": null,
   "id": "131f895f",
   "metadata": {},
   "outputs": [],
   "source": [
    "1c0111001f010100061a024b53535009181c\n",
    "686974207468652062756c6c277320657965\n",
    "\n",
    "0 0 0 1 1 1 0 0\n",
    "0 1 1 0 1 0 0 0\n",
    "---------------\n",
    "0 1 1 1 0 1 0 0\n",
    "\n",
    "0111 0100\n",
    "7    4\n"
   ]
  },
  {
   "cell_type": "code",
   "execution_count": 1,
   "id": "23cb3a6b",
   "metadata": {},
   "outputs": [
    {
     "data": {
      "text/plain": [
       "b'\\x1b77316?x\\x15\\x1b\\x7f+x413=x9x(7-6<x7>x:9;76'"
      ]
     },
     "execution_count": 1,
     "metadata": {},
     "output_type": "execute_result"
    }
   ],
   "source": [
    "hexstr = \"1b37373331363f78151b7f2b783431333d78397828372d363c78373e783a393b3736\"\n",
    "ciphertext = bytes.fromhex(hexstr)\n",
    "ciphertext"
   ]
  }
 ],
 "metadata": {
  "kernelspec": {
   "display_name": "Python 3 (ipykernel)",
   "language": "python",
   "name": "python3"
  },
  "language_info": {
   "codemirror_mode": {
    "name": "ipython",
    "version": 3
   },
   "file_extension": ".py",
   "mimetype": "text/x-python",
   "name": "python",
   "nbconvert_exporter": "python",
   "pygments_lexer": "ipython3",
   "version": "3.8.16"
  }
 },
 "nbformat": 4,
 "nbformat_minor": 5
}
